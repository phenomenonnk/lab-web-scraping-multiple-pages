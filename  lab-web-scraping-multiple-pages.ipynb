{
 "cells": [
  {
   "cell_type": "markdown",
   "id": "4e8f712a",
   "metadata": {},
   "source": [
    "# lab-web-scraping-multiple-pages"
   ]
  },
  {
   "cell_type": "markdown",
   "id": "93fdc3f0",
   "metadata": {},
   "source": [
    "### Business goal:"
   ]
  },
  {
   "cell_type": "markdown",
   "id": "d757ac2c",
   "metadata": {},
   "source": [
    "#### - Check the case_study_gnod.md file."
   ]
  },
  {
   "cell_type": "markdown",
   "id": "2205883d",
   "metadata": {},
   "source": [
    "#### - Make sure you've understood the big picture of your project:\n",
    "#### the goal of the company (Gnod),\n",
    "#### their current product (Gnoosic),\n",
    "#### their strategy, and\n",
    "#### how your project fits into this context."
   ]
  },
  {
   "cell_type": "markdown",
   "id": "97bca459",
   "metadata": {},
   "source": [
    "#### Re-read the business case and the e-mail from the CTO, take a look at the flowchart and create an initial Trello board with the tasks you think you'll have to accomplish."
   ]
  },
  {
   "cell_type": "markdown",
   "id": "14eafec6",
   "metadata": {},
   "source": [
    "### Instructions"
   ]
  },
  {
   "cell_type": "markdown",
   "id": "5c28d36d",
   "metadata": {},
   "source": [
    "#### Prioritize the MVP"
   ]
  },
  {
   "cell_type": "markdown",
   "id": "7418b87a",
   "metadata": {},
   "source": [
    "#### In the previous lab, you had to scrape data about \"hot songs\". It's critical to be on track with that part, as it was part of the request from the CTO.\n",
    "#### If you couldn't finish the first lab, use this time to go back there."
   ]
  },
  {
   "cell_type": "markdown",
   "id": "8fa80309",
   "metadata": {},
   "source": [
    "#### Expand the project"
   ]
  },
  {
   "cell_type": "markdown",
   "id": "e293bc91",
   "metadata": {},
   "source": [
    "#### If you're done, you can try to expand the project on your own. Here are a few suggestions:"
   ]
  },
  {
   "cell_type": "markdown",
   "id": "73512b5a",
   "metadata": {},
   "source": [
    "#### - Find other lists of hot songs on the internet and scrape them too: having a bigger pool of songs will be awesome!"
   ]
  },
  {
   "cell_type": "markdown",
   "id": "0f088c4c",
   "metadata": {},
   "source": [
    "#### - Apply the same logic to other \"groups\" of songs: the best songs from a decade or from a country / culture / language / genre."
   ]
  },
  {
   "cell_type": "markdown",
   "id": "ea158d74",
   "metadata": {},
   "source": [
    "#### - Wikipedia maintains a large collection of lists of songs: https://en.wikipedia.org/wiki/Lists_of_songs"
   ]
  },
  {
   "cell_type": "code",
   "execution_count": 1,
   "id": "6fff7a45",
   "metadata": {},
   "outputs": [],
   "source": [
    "# importing useful libraries \n",
    "#! pip install bs4 # (installing the library in case it is not installed)\n",
    "from bs4 import BeautifulSoup\n",
    "import requests\n",
    "import pandas as pd"
   ]
  },
  {
   "cell_type": "code",
   "execution_count": 2,
   "id": "54bee57f",
   "metadata": {},
   "outputs": [
    {
     "data": {
      "text/html": [
       "<div>\n",
       "<style scoped>\n",
       "    .dataframe tbody tr th:only-of-type {\n",
       "        vertical-align: middle;\n",
       "    }\n",
       "\n",
       "    .dataframe tbody tr th {\n",
       "        vertical-align: top;\n",
       "    }\n",
       "\n",
       "    .dataframe thead th {\n",
       "        text-align: right;\n",
       "    }\n",
       "</style>\n",
       "<table border=\"1\" class=\"dataframe\">\n",
       "  <thead>\n",
       "    <tr style=\"text-align: right;\">\n",
       "      <th></th>\n",
       "      <th>songs</th>\n",
       "      <th>artists</th>\n",
       "    </tr>\n",
       "  </thead>\n",
       "  <tbody>\n",
       "    <tr>\n",
       "      <th>0</th>\n",
       "      <td>About Damn Time</td>\n",
       "      <td>Lizzo</td>\n",
       "    </tr>\n",
       "    <tr>\n",
       "      <th>1</th>\n",
       "      <td>As It Was</td>\n",
       "      <td>Harry Styles</td>\n",
       "    </tr>\n",
       "    <tr>\n",
       "      <th>2</th>\n",
       "      <td>Running Up That Hill (A Deal With God)</td>\n",
       "      <td>Kate Bush</td>\n",
       "    </tr>\n",
       "    <tr>\n",
       "      <th>3</th>\n",
       "      <td>First Class</td>\n",
       "      <td>Jack Harlow</td>\n",
       "    </tr>\n",
       "    <tr>\n",
       "      <th>4</th>\n",
       "      <td>Wait For U</td>\n",
       "      <td>Future Featuring Drake &amp; Tems</td>\n",
       "    </tr>\n",
       "    <tr>\n",
       "      <th>...</th>\n",
       "      <td>...</td>\n",
       "      <td>...</td>\n",
       "    </tr>\n",
       "    <tr>\n",
       "      <th>95</th>\n",
       "      <td>Te Felicito</td>\n",
       "      <td>Shakira &amp; Rauw Alejandro</td>\n",
       "    </tr>\n",
       "    <tr>\n",
       "      <th>96</th>\n",
       "      <td>Are You Entertained</td>\n",
       "      <td>Russ &amp; Ed Sheeran</td>\n",
       "    </tr>\n",
       "    <tr>\n",
       "      <th>97</th>\n",
       "      <td>Bzrp Music Sessions, Vol. 52</td>\n",
       "      <td>Bizarrap &amp; Quevedo</td>\n",
       "    </tr>\n",
       "    <tr>\n",
       "      <th>98</th>\n",
       "      <td>Right On</td>\n",
       "      <td>Lil Baby</td>\n",
       "    </tr>\n",
       "    <tr>\n",
       "      <th>99</th>\n",
       "      <td>La Corriente</td>\n",
       "      <td>Bad Bunny &amp; Tony Dize</td>\n",
       "    </tr>\n",
       "  </tbody>\n",
       "</table>\n",
       "<p>100 rows × 2 columns</p>\n",
       "</div>"
      ],
      "text/plain": [
       "                                     songs                        artists\n",
       "0                          About Damn Time                          Lizzo\n",
       "1                                As It Was                   Harry Styles\n",
       "2   Running Up That Hill (A Deal With God)                      Kate Bush\n",
       "3                              First Class                    Jack Harlow\n",
       "4                               Wait For U  Future Featuring Drake & Tems\n",
       "..                                     ...                            ...\n",
       "95                             Te Felicito       Shakira & Rauw Alejandro\n",
       "96                     Are You Entertained              Russ & Ed Sheeran\n",
       "97            Bzrp Music Sessions, Vol. 52             Bizarrap & Quevedo\n",
       "98                                Right On                       Lil Baby\n",
       "99                            La Corriente          Bad Bunny & Tony Dize\n",
       "\n",
       "[100 rows x 2 columns]"
      ]
     },
     "execution_count": 2,
     "metadata": {},
     "output_type": "execute_result"
    }
   ],
   "source": [
    "# Reading the data-results from the previous lab 'lab-web-scraping-single-page' into Python\n",
    "top100=pd.read_csv('top100.csv')\n",
    "top100"
   ]
  },
  {
   "cell_type": "code",
   "execution_count": 3,
   "id": "834aa127",
   "metadata": {},
   "outputs": [],
   "source": [
    "# Let's get the URL of a website with charts and store it in a variable\n",
    "url1=\"https://www.offiziellecharts.de/charts/single/for-date-1651096800000\""
   ]
  },
  {
   "cell_type": "code",
   "execution_count": 4,
   "id": "be9265fc",
   "metadata": {},
   "outputs": [
    {
     "data": {
      "text/plain": [
       "200"
      ]
     },
     "execution_count": 4,
     "metadata": {},
     "output_type": "execute_result"
    }
   ],
   "source": [
    "# getting the HTML code from our URL using request from requests library and then getting the status code\n",
    "request_charts1 = requests.get(url1)\n",
    "request_charts1.status_code\n",
    "# the status code is 200, so we do not face any issue"
   ]
  },
  {
   "cell_type": "code",
   "execution_count": 5,
   "id": "25766401",
   "metadata": {},
   "outputs": [
    {
     "data": {
      "text/plain": [
       "b'<!doctype html>\\r\\n<html prefix=\"og: http://ogp.me/ns#\" class=\"no-js\" xmlns=\"http://www.w3.org/1999/xh'"
      ]
     },
     "execution_count": 5,
     "metadata": {},
     "output_type": "execute_result"
    }
   ],
   "source": [
    "# getting the code with the attribute content\n",
    "request_charts1.content[:100]\n",
    "# Since we essentially have a giant string of HTML, we can print a slice of 100 characters to confirm we have the source of \n",
    "# the page and now it is not messy"
   ]
  },
  {
   "cell_type": "code",
   "execution_count": 6,
   "id": "1c038c35",
   "metadata": {},
   "outputs": [
    {
     "name": "stdout",
     "output_type": "stream",
     "text": [
      "<!DOCTYPE html>\n",
      "<html class=\"no-js\" lang=\"de-de\" prefix=\"og: http://ogp.me/ns#\" xml:lang=\"de-de\" xmlns=\"http://www.w3.org/1999/xhtml\">\n",
      " <meta content=\"Hier gibt’s die Offiziellen Deutschen Charts in ihrer ganzen Vielfalt. Denn: Hier zählt die Musik.\" name=\"description\"/>\n",
      " <head>\n",
      "  <script type=\"text/javascript\">\n",
      "   (function(){   function blockCookies(disableCookies, disableLocal, disableSession){   if(disableCookies == 1){   if(!document.__defineGetter__){   Object.defineProperty(document, 'cookie',{   get: function(){ return ''; },   set: function(){ return true;}   });   }else{   var oldSetter = document.__lookupSetter__('cookie');   if(oldSetter) {   Object.defineProperty(document, 'cookie', {   get: function(){ return ''; },   set: function(v){   if(v.match(/reDimCookieHint\\=/)) {   oldSetter.call(document, v);   }   return true;   }   });   }   }   var cookies = document.cookie.split(';');   for (var i = 0; i < cookies.length; i++) {   var cookie = cookies[i];   var pos = cookie.indexOf('=');   var name = '';   if(pos > -1){   name = cookie.substr(0, pos);   }else{   name = cookie;   }   if(name.match(/reDimCookieHint/)) {   document.cookie = name + '=; expires=Thu, 01 Jan 1970 00:00:00 GMT';   }   }   }   if(disableLocal == 1){   window.localStorage.clear();   window.localStorage.__proto__ = Object.create(window.Storage.prototype);   window.localStorage.__proto__.setItem = function(){ return undefined; };   }   if(disableSession == 1){   window.sessionStorage.clear();   window.sessionStorage.__proto__ = Object.create(window.Storage.prototype);   window.sessionStorage.__proto__.setItem = function(){ return undefined; };   }   }   blockCookies(1,1,1);   }());\n",
      "  </script>\n",
      "  <base href=\"https://www.offiziellecharts.de/charts/single/for-date-1651096800000\"/>\n",
      "  <meta content=\"text/html; charset=utf-8\" http-equiv=\"content-type\"/>\n",
      "  <meta content=\"Hier gibt’s die Offiziellen Deutschen Charts in ihrer ganzen Vielfalt. Denn: Hier zählt die Musik.\" name=\"description\"/>\n",
      "  <meta content=\"Joomla! - Open Source Content Management\" name=\"generator\"/>\n",
      "  <title>\n",
      "   Offizielle Deutsche Charts - Offizielle Deutsche Charts\n",
      "  </title>\n",
      "  <link href=\"/templates/gfktemplate/favicon.ico\" rel=\"shortcut icon\" type=\"image/vnd.microsoft.icon\"/>\n",
      "  <style type=\"text/css\">\n",
      "   #redim-cookiehint-modal {position: fixed; top: 0; bottom: 0; left: 0; right: 0; z-index: 99998; display: flex; justify-content : center; align-items : center;}\n",
      "  </style>\n",
      "  <script src=\"/media/k2/assets/js/k2.frontend.js?v=2.10.3&amp;b=20200429&amp;sitepath=/\" type=\"text/javascript\">\n",
      "  </script>\n",
      "  <script type=\"text/javascript\">\n",
      "   function do_nothing() { return; }\n",
      "  </script>\n",
      "  <meta content=\"IE=edge\" http-equiv=\"X-UA-Compatible\"/>\n",
      "  <meta content=\"height=device-height, width=device-width, initial-scale=1.0, maximum-scale=1, user-scalable=no, minimal-ui\" name=\"viewport\"/>\n",
      "  <meta content=\"yes\" name=\"apple-mobile-web-app-capable\"/>\n",
      "  <link href=\"/templates/gfktemplate/favicon.ico\" rel=\"shortcut icon\"\n"
     ]
    }
   ],
   "source": [
    "# parsing the element and getting the code with the attribute content using the 'html.parser' so we know that we have html code\n",
    "# Print the prettify version of soup instead if the simple soup, so it is not so messy like previously\n",
    "soup1 = BeautifulSoup(request_charts1.content, 'html.parser')\n",
    "# soup\n",
    "# html well indented. not always works great...\n",
    "print(soup1.prettify()[:3000])\n",
    "# we could say that the html code looks like the way it should look and it is saved in a beautiful soup object"
   ]
  },
  {
   "cell_type": "code",
   "execution_count": 7,
   "id": "5291a959",
   "metadata": {},
   "outputs": [],
   "source": [
    "# Let's find the artists by recognizing a pattern on them\n",
    "artist1 = []\n",
    "for span in soup1.find_all('span', attrs={'class':'info-artist'}):\n",
    "    artist1.append(span.get_text())"
   ]
  },
  {
   "cell_type": "code",
   "execution_count": 8,
   "id": "66ebd421",
   "metadata": {},
   "outputs": [],
   "source": [
    "# Let's find the songs (titles) by recognizing a pattern on them\n",
    "title1 = []\n",
    "for span in soup1.find_all('span', attrs={'class':'info-title'}):\n",
    "    title1.append(span.get_text())"
   ]
  },
  {
   "cell_type": "code",
   "execution_count": 9,
   "id": "9baf97ee",
   "metadata": {},
   "outputs": [
    {
     "data": {
      "text/html": [
       "<div>\n",
       "<style scoped>\n",
       "    .dataframe tbody tr th:only-of-type {\n",
       "        vertical-align: middle;\n",
       "    }\n",
       "\n",
       "    .dataframe tbody tr th {\n",
       "        vertical-align: top;\n",
       "    }\n",
       "\n",
       "    .dataframe thead th {\n",
       "        text-align: right;\n",
       "    }\n",
       "</style>\n",
       "<table border=\"1\" class=\"dataframe\">\n",
       "  <thead>\n",
       "    <tr style=\"text-align: right;\">\n",
       "      <th></th>\n",
       "      <th>artists</th>\n",
       "      <th>songs</th>\n",
       "    </tr>\n",
       "  </thead>\n",
       "  <tbody>\n",
       "    <tr>\n",
       "      <th>0</th>\n",
       "      <td>Harry Styles</td>\n",
       "      <td>As It Was</td>\n",
       "    </tr>\n",
       "    <tr>\n",
       "      <th>1</th>\n",
       "      <td>Jack Harlow</td>\n",
       "      <td>First Class</td>\n",
       "    </tr>\n",
       "    <tr>\n",
       "      <th>2</th>\n",
       "      <td>Rammstein</td>\n",
       "      <td>Zick zack</td>\n",
       "    </tr>\n",
       "    <tr>\n",
       "      <th>3</th>\n",
       "      <td>Miksu / MacLoud &amp; T-Low</td>\n",
       "      <td>Sehnsucht</td>\n",
       "    </tr>\n",
       "    <tr>\n",
       "      <th>4</th>\n",
       "      <td>Glass Animals</td>\n",
       "      <td>Heat Waves</td>\n",
       "    </tr>\n",
       "    <tr>\n",
       "      <th>...</th>\n",
       "      <td>...</td>\n",
       "      <td>...</td>\n",
       "    </tr>\n",
       "    <tr>\n",
       "      <th>95</th>\n",
       "      <td>Art [DE]</td>\n",
       "      <td>Belgisches Viertel</td>\n",
       "    </tr>\n",
       "    <tr>\n",
       "      <th>96</th>\n",
       "      <td>Pashanim</td>\n",
       "      <td>Paris Freestyle</td>\n",
       "    </tr>\n",
       "    <tr>\n",
       "      <th>97</th>\n",
       "      <td>Gabry Ponte x Lum!x x Prezioso</td>\n",
       "      <td>Thunder</td>\n",
       "    </tr>\n",
       "    <tr>\n",
       "      <th>98</th>\n",
       "      <td>atb x Topic x A7S</td>\n",
       "      <td>Your Love (9PM)</td>\n",
       "    </tr>\n",
       "    <tr>\n",
       "      <th>99</th>\n",
       "      <td>Jnr Choi</td>\n",
       "      <td>To The Moon</td>\n",
       "    </tr>\n",
       "  </tbody>\n",
       "</table>\n",
       "<p>100 rows × 2 columns</p>\n",
       "</div>"
      ],
      "text/plain": [
       "                           artists               songs\n",
       "0                     Harry Styles           As It Was\n",
       "1                      Jack Harlow         First Class\n",
       "2                        Rammstein           Zick zack\n",
       "3          Miksu / MacLoud & T-Low           Sehnsucht\n",
       "4                    Glass Animals          Heat Waves\n",
       "..                             ...                 ...\n",
       "95                        Art [DE]  Belgisches Viertel\n",
       "96                        Pashanim     Paris Freestyle\n",
       "97  Gabry Ponte x Lum!x x Prezioso             Thunder\n",
       "98               atb x Topic x A7S     Your Love (9PM)\n",
       "99                        Jnr Choi         To The Moon\n",
       "\n",
       "[100 rows x 2 columns]"
      ]
     },
     "execution_count": 9,
     "metadata": {},
     "output_type": "execute_result"
    }
   ],
   "source": [
    "# creating a dataframe with artists and songs\n",
    "charts1 = pd.DataFrame({\"artists\":artist1,\n",
    "                        \"songs\":title1})\n",
    "\n",
    "charts1"
   ]
  },
  {
   "cell_type": "code",
   "execution_count": 10,
   "id": "21d79704",
   "metadata": {},
   "outputs": [],
   "source": [
    "# Let's get a second URL of a website with charts and store it in a variable\n",
    "url2=\"https://www.officialcharts.com/charts/singles-chart/\""
   ]
  },
  {
   "cell_type": "code",
   "execution_count": 11,
   "id": "c5796b77",
   "metadata": {},
   "outputs": [
    {
     "data": {
      "text/plain": [
       "200"
      ]
     },
     "execution_count": 11,
     "metadata": {},
     "output_type": "execute_result"
    }
   ],
   "source": [
    "# getting the HTML code from our URL using request from requests library and then getting the status code\n",
    "request_charts2 = requests.get(url2)\n",
    "request_charts2.status_code\n",
    "# the status code is 200, so we do not face any issue"
   ]
  },
  {
   "cell_type": "code",
   "execution_count": 12,
   "id": "961e5167",
   "metadata": {},
   "outputs": [
    {
     "data": {
      "text/plain": [
       "b'\\r\\n\\r\\n<!doctype html>\\r\\n<!--[if lt IE 7]><html class=\"no-js ie6 oldie\" lang=\"en\"><![endif]-->\\r\\n<!--[if '"
      ]
     },
     "execution_count": 12,
     "metadata": {},
     "output_type": "execute_result"
    }
   ],
   "source": [
    "# getting the code with the attribute content\n",
    "request_charts2.content[:100]\n",
    "# Since we essentially have a giant string of HTML, we can print a slice of 100 characters to confirm we have the source of \n",
    "# the page and now it is not messy"
   ]
  },
  {
   "cell_type": "code",
   "execution_count": 22,
   "id": "d984f7aa",
   "metadata": {
    "scrolled": false
   },
   "outputs": [
    {
     "name": "stdout",
     "output_type": "stream",
     "text": [
      "<!DOCTYPE html>\n",
      "<!--[if lt IE 7]><html class=\"no-js ie6 oldie\" lang=\"en\"><![endif]-->\n",
      "<!--[if IE 7]><html class=\"no-js ie7 oldie\" lang=\"en\"><![endif]-->\n",
      "<!--[if IE 8]><html class=\"no-js ie8 oldie\" lang=\"en\"><![endif]-->\n",
      "<!--[if gt IE 8]><!-->\n",
      "<html class=\"no-js\" lang=\"en\">\n",
      " <!--<![endif]-->\n",
      " <head>\n",
      "  <meta charset=\"utf-8\"/>\n",
      "  <meta content=\"IE=edge,chrome=1\" http-equiv=\"X-UA-Compatible\"/>\n",
      "  <title>\n",
      "   Official Singles Chart Top 100 | Official Charts Company\n",
      "  </title>\n",
      "  <meta content=\"The Official UK Top 40 chart is compiled by the Official Charts Company, based on official sales of sales of downloads, CD, vinyl, audio streams and video streams. The Top 40 is broadcast on BBC Radio 1 and MTV, the full Top 100 is published exclusively on OfficialCharts.com.\" name=\"description\"/>\n",
      "  <meta content=\"Top 40, UK Top 40, Charts, Top 40 UK, UK Charts, UK singles chart, Music Charts, Official UK Top 40, Charts 2012, Hit 40 UK, UK Chart, Official Singles Chart, Official Albums Chart, Number 1, Number One\" name=\"keywords\"/>\n",
      "  <meta content=\"width=device-width,initial-scale=1\" name=\"viewport\"/>\n",
      "  <meta content=\"https://www.officialcharts.com\" property=\"og:image\"/>\n",
      "  <link href=\"/favicon.ico\" rel=\"shortcut icon\"/>\n",
      "  <link href=\"//fonts.googleapis.com\" rel=\"dns-prefetch\"/>\n",
      "  <link href=\"//fonts.googleapis.com/css?family=Roboto+Slab:400,300,700\" rel=\"stylesheet\" type=\"text/css\"/>\n",
      "  <link href=\"/Css/style.css\" rel=\"stylesheet\">\n",
      "   <script src=\"https://mailer.officialcharts.com/h/d/5C5B2B0228834DED/547A13F72B953763/popup.js\" type=\"text/javascript\">\n",
      "   </script>\n",
      "   <!-- Quantcast Choice. Consent Manager Tag v2.0 (for TCF 2.0) -->\n",
      "   <script async=\"true\" type=\"text/javascript\">\n",
      "    (function() {\n",
      "  var host = window.location.hostname;\n",
      "  var element = document.createElement('script');\n",
      "  var firstScript = document.getElementsByTagName('script')[0];\n",
      "  var url = 'https://quantcast.mgr.consensu.org'\n",
      "    .concat('/choice/', 'qFYsnYXTfYNA0', '/', host, '/choice.js')\n",
      "  var uspTries = 0;\n",
      "  var uspTriesLimit = 3;\n",
      "  element.async = true;\n",
      "  element.type = 'text/javascript';\n",
      "  element.src = url;\n",
      "\n",
      "  firstScript.parentNode.insertBefore(element, firstScript);\n",
      "\n",
      "  function makeStub() {\n",
      "    var TCF_LOCATOR_NAME = '__tcfapiLocator';\n",
      "    var queue = [];\n",
      "    var win = window;\n",
      "    var cmpFrame;\n",
      "\n",
      "    function addFrame() {\n",
      "      var doc = win.document;\n",
      "      var otherCMP = !!(win.frames[TCF_LOCATOR_NAME]);\n",
      "\n",
      "      if (!otherCMP) {\n",
      "        if (doc.body) {\n",
      "          var iframe = doc.createElement('iframe');\n",
      "\n",
      "          iframe.style.cssText = 'display:none';\n",
      "          iframe.name = TCF_LOCATOR_NAME;\n",
      "          doc.body.appendChild(iframe);\n",
      "        } else {\n",
      "          setTimeout(addFrame, 5);\n",
      "        }\n",
      "      }\n",
      "      return !otherCMP;\n",
      "    }\n",
      "\n",
      "    function tcfAPIHandler() {\n",
      "      var gdprApplies;\n",
      "      var args = arguments;\n",
      "\n",
      "      if (!args.length) {\n",
      "        return queue;\n",
      "      } else if (args[0] === 'setGdprApplies') {\n",
      "        if (\n",
      "          args.length > 3 &&\n",
      "          args[2] === 2 &&\n",
      "          type\n"
     ]
    }
   ],
   "source": [
    "# parsing the element and getting the code with the attribute content using the 'html.parser' so we know that we have html code\n",
    "# Print the prettify version of soup instead if the simple soup, so it is not so messy like previously\n",
    "soup2 = BeautifulSoup(request_charts2.content, 'html.parser')\n",
    "# soup2\n",
    "# html well indented. not always works great...\n",
    "print(soup2.prettify()[:3000])\n",
    "# we could say that the html code looks like the way it should look and it is saved in a beautiful soup object"
   ]
  },
  {
   "cell_type": "code",
   "execution_count": 14,
   "id": "28f6f2d2",
   "metadata": {},
   "outputs": [],
   "source": [
    "# Let's find the artists by recognizing a pattern on them\n",
    "artist2 = []\n",
    "for div in soup2.find_all('div', attrs={'class':'artist'}):\n",
    "    artist2.append(div.get_text().strip())"
   ]
  },
  {
   "cell_type": "code",
   "execution_count": 15,
   "id": "6b1e11db",
   "metadata": {},
   "outputs": [
    {
     "data": {
      "text/plain": [
       "['LF SYSTEM',\n",
       " 'CENTRAL CEE',\n",
       " 'HARRY STYLES',\n",
       " 'GEORGE EZRA',\n",
       " 'BURNA BOY',\n",
       " 'BEYONCE',\n",
       " 'DAVID GUETTA/HILL/HENDERSON',\n",
       " 'LIZZO',\n",
       " 'KATE BUSH',\n",
       " 'TION WAYNE & LA ROUX',\n",
       " 'NATHAN DAWE FT ELLA HENDERSON',\n",
       " 'ONEREPUBLIC',\n",
       " 'HARRY STYLES',\n",
       " 'SIGALA & TALIA MAR',\n",
       " 'DRAKE',\n",
       " 'JAX JONES FT MNEK',\n",
       " 'SAM FENDER',\n",
       " 'STEVE LACY',\n",
       " 'JOJI',\n",
       " 'BRU-C',\n",
       " 'FUTURE FT DRAKE & TEMS',\n",
       " 'HARRIS/TIMBERLAKE/HALSEY',\n",
       " 'BILLIE EILISH',\n",
       " 'HARRY STYLES',\n",
       " 'DOJA CAT',\n",
       " 'ROSA LINN',\n",
       " 'DRAKE FT 21 SAVAGE',\n",
       " 'CAT BURNS',\n",
       " 'POST MALONE FT DOJA CAT',\n",
       " 'TIESTO & CHARLI XCX',\n",
       " 'METALLICA',\n",
       " 'BURNA BOY FT ED SHEERAN',\n",
       " 'BILLIE EILISH',\n",
       " 'CALVIN HARRIS/DUA LIPA/YOUNG',\n",
       " 'LATTO/MARIAH CAREY/DJ KHALED',\n",
       " 'JAMES HYPE/MIGGY DELA ROSA',\n",
       " 'LUUDE & MATTAFIX',\n",
       " 'D-BLOCK EUROPE/GHOST KILLER',\n",
       " 'GLASS ANIMALS',\n",
       " 'DIPLO & MIGUEL',\n",
       " 'ED SHEERAN',\n",
       " 'TOM GRENNAN',\n",
       " 'BECKY HILL & DAVID GUETTA',\n",
       " 'CIAN DUCROT',\n",
       " 'LADY GAGA',\n",
       " 'BENSON BOONE',\n",
       " 'RUSS FT ED SHEERAN',\n",
       " 'NICKY YOURE & DAZY',\n",
       " 'D-BLOCK EUROPE',\n",
       " 'ED SHEERAN',\n",
       " 'FIREBOY DML & ED SHEERAN',\n",
       " 'TOM SANTA',\n",
       " 'ARRDEE FT KYLA',\n",
       " 'LOST FREQUENCIES/CALUM SCOTT',\n",
       " 'CHASE & STATUS',\n",
       " 'BELTERS ONLY FT JAZZY',\n",
       " 'ED SHEERAN',\n",
       " 'ELTON JOHN & DUA LIPA',\n",
       " 'DERMOT KENNEDY',\n",
       " 'RUTH B',\n",
       " 'KILLERS',\n",
       " 'ALESSO/ZARA LARSSON',\n",
       " 'CHRIS BROWN',\n",
       " 'CAMILA CABELLO FT ED SHEERAN',\n",
       " 'JACK HARLOW',\n",
       " 'BENZZ',\n",
       " 'AITCH/ASHANTI',\n",
       " 'SAM FENDER',\n",
       " 'DRAKE',\n",
       " 'DECLAN MCKENNA',\n",
       " 'SAM RYDER',\n",
       " 'DAVE',\n",
       " 'LIZZO',\n",
       " 'WET LEG',\n",
       " 'OXLADE',\n",
       " 'CALVIN HARRIS & DUA LIPA',\n",
       " 'GEORGE EZRA',\n",
       " 'TATE MCRAE',\n",
       " 'CHRIS BROWN FT WIZKID',\n",
       " 'YUNG GRAVY',\n",
       " 'PAOLO NUTINI',\n",
       " 'MEDUZA/JAMES CARTER/DUHE',\n",
       " 'AJR',\n",
       " 'WEEKND',\n",
       " 'CHARLIE PUTH FT JUNG KOOK',\n",
       " 'TEARS FOR FEARS',\n",
       " 'KID LAROI & JUSTIN BIEBER',\n",
       " 'FRED AGAIN',\n",
       " 'E1 3X3',\n",
       " 'BURNA BOY FT J HUS',\n",
       " 'MIMI WEBB',\n",
       " 'WEEKND',\n",
       " 'ELIZA ROSE/INTERPLANETARY',\n",
       " 'DUA LIPA',\n",
       " 'ALOK/ELLA EYRE/KENNY DOPE',\n",
       " 'BELTERS ONLY',\n",
       " 'GIVEON',\n",
       " 'TOM ODELL',\n",
       " 'GEORGE EZRA',\n",
       " 'LEWIS CAPALDI']"
      ]
     },
     "execution_count": 15,
     "metadata": {},
     "output_type": "execute_result"
    }
   ],
   "source": [
    "artist2"
   ]
  },
  {
   "cell_type": "code",
   "execution_count": 16,
   "id": "81572a60",
   "metadata": {},
   "outputs": [],
   "source": [
    "# Let's find the songs (titles) by recognizing a pattern on them\n",
    "title2 = []\n",
    "for div in soup2.find_all('div', attrs={'class':'title'}):\n",
    "    title2.append(div.get_text().strip())  "
   ]
  },
  {
   "cell_type": "code",
   "execution_count": 17,
   "id": "84cefbf7",
   "metadata": {},
   "outputs": [
    {
     "data": {
      "text/plain": [
       "['AFRAID TO FEEL',\n",
       " 'DOJA',\n",
       " 'AS IT WAS',\n",
       " 'GREEN GREEN GRASS',\n",
       " 'LAST LAST',\n",
       " 'BREAK MY SOUL',\n",
       " 'CRAZY WHAT LOVE CAN DO',\n",
       " 'ABOUT DAMN TIME',\n",
       " 'RUNNING UP THAT HILL',\n",
       " 'IFTK',\n",
       " '21 REASONS',\n",
       " \"I AIN'T WORRIED\",\n",
       " 'LATE NIGHT TALKING',\n",
       " 'STAY THE NIGHT',\n",
       " 'MASSIVE',\n",
       " 'WHERE DID YOU GO',\n",
       " 'SEVENTEEN GOING UNDER',\n",
       " 'BAD HABIT',\n",
       " 'GLIMPSE OF US',\n",
       " 'NO EXCUSES',\n",
       " 'WAIT FOR U',\n",
       " 'STAY WITH ME',\n",
       " 'TV',\n",
       " 'MUSIC FOR A SUSHI RESTAURANT',\n",
       " 'VEGAS',\n",
       " 'SNAP',\n",
       " 'JIMMY COOKS',\n",
       " 'GO',\n",
       " 'I LIKE YOU (A HAPPIER SONG)',\n",
       " 'HOT IN IT',\n",
       " 'MASTER OF PUPPETS',\n",
       " 'FOR MY HAND',\n",
       " 'THE 30TH',\n",
       " 'POTION',\n",
       " 'BIG ENERGY',\n",
       " 'FERRARI',\n",
       " 'BIG CITY LIFE',\n",
       " 'ELEGANT & GANG',\n",
       " 'HEAT WAVES',\n",
       " \"DON'T FORGET MY LOVE\",\n",
       " 'BAD HABITS',\n",
       " 'REMIND ME',\n",
       " 'REMEMBER',\n",
       " 'ALL FOR YOU',\n",
       " 'HOLD MY HAND',\n",
       " 'IN THE STARS',\n",
       " 'ARE YOU ENTERTAINED',\n",
       " 'SUNROOF',\n",
       " 'FANTASY',\n",
       " 'SHIVERS',\n",
       " 'PERU',\n",
       " 'RAINFALL',\n",
       " 'HELLO MATE',\n",
       " 'WHERE ARE YOU NOW',\n",
       " 'MIXED EMOTIONS',\n",
       " 'MAKE ME FEEL GOOD',\n",
       " '2STEP',\n",
       " 'COLD HEART',\n",
       " 'SOMETHING TO SOMEONE',\n",
       " 'DANDELIONS',\n",
       " 'MR BRIGHTSIDE',\n",
       " 'WORDS',\n",
       " 'UNDER THE INFLUENCE',\n",
       " 'BAM BAM',\n",
       " 'FIRST CLASS',\n",
       " \"JE M'APPELLE\",\n",
       " 'BABY',\n",
       " 'GETTING STARTED',\n",
       " 'STICKY',\n",
       " 'BRAZIL',\n",
       " 'SPACE MAN',\n",
       " 'STARLIGHT',\n",
       " '2 BE LOVED (AM I READY)',\n",
       " 'WET DREAM',\n",
       " 'KU LO SA - A COLORS SHOW',\n",
       " 'ONE KISS',\n",
       " 'SHOTGUN',\n",
       " \"SHE'S ALL I WANNA BE\",\n",
       " 'CALL ME EVERY DAY',\n",
       " 'BETTY (GET MONEY)',\n",
       " 'THROUGH THE ECHOES',\n",
       " 'BAD MEMORIES',\n",
       " \"WORLD'S SMALLEST VIOLIN\",\n",
       " 'SAVE YOUR TEARS',\n",
       " 'LEFT AND RIGHT',\n",
       " 'EVERYBODY WANTS TO RULE THE WORLD',\n",
       " 'STAY',\n",
       " 'JUNGLE',\n",
       " 'MOCKINGBIRD',\n",
       " 'CLOAK & DAGGER',\n",
       " 'HOUSE ON FIRE',\n",
       " 'BLINDING LIGHTS',\n",
       " 'B.O.T.A. (BADDEST OF THEM ALL)',\n",
       " 'LEVITATING',\n",
       " 'DEEP DOWN',\n",
       " 'I WILL SURVIVE',\n",
       " 'LOST ME',\n",
       " 'ANOTHER LOVE',\n",
       " 'ANYONE FOR YOU',\n",
       " 'SOMEONE YOU LOVED']"
      ]
     },
     "execution_count": 17,
     "metadata": {},
     "output_type": "execute_result"
    }
   ],
   "source": [
    "title2"
   ]
  },
  {
   "cell_type": "code",
   "execution_count": 18,
   "id": "416f5703",
   "metadata": {},
   "outputs": [
    {
     "data": {
      "text/html": [
       "<div>\n",
       "<style scoped>\n",
       "    .dataframe tbody tr th:only-of-type {\n",
       "        vertical-align: middle;\n",
       "    }\n",
       "\n",
       "    .dataframe tbody tr th {\n",
       "        vertical-align: top;\n",
       "    }\n",
       "\n",
       "    .dataframe thead th {\n",
       "        text-align: right;\n",
       "    }\n",
       "</style>\n",
       "<table border=\"1\" class=\"dataframe\">\n",
       "  <thead>\n",
       "    <tr style=\"text-align: right;\">\n",
       "      <th></th>\n",
       "      <th>artists</th>\n",
       "      <th>songs</th>\n",
       "    </tr>\n",
       "  </thead>\n",
       "  <tbody>\n",
       "    <tr>\n",
       "      <th>0</th>\n",
       "      <td>LF SYSTEM</td>\n",
       "      <td>AFRAID TO FEEL</td>\n",
       "    </tr>\n",
       "    <tr>\n",
       "      <th>1</th>\n",
       "      <td>CENTRAL CEE</td>\n",
       "      <td>DOJA</td>\n",
       "    </tr>\n",
       "    <tr>\n",
       "      <th>2</th>\n",
       "      <td>HARRY STYLES</td>\n",
       "      <td>AS IT WAS</td>\n",
       "    </tr>\n",
       "    <tr>\n",
       "      <th>3</th>\n",
       "      <td>GEORGE EZRA</td>\n",
       "      <td>GREEN GREEN GRASS</td>\n",
       "    </tr>\n",
       "    <tr>\n",
       "      <th>4</th>\n",
       "      <td>BURNA BOY</td>\n",
       "      <td>LAST LAST</td>\n",
       "    </tr>\n",
       "    <tr>\n",
       "      <th>...</th>\n",
       "      <td>...</td>\n",
       "      <td>...</td>\n",
       "    </tr>\n",
       "    <tr>\n",
       "      <th>95</th>\n",
       "      <td>BELTERS ONLY</td>\n",
       "      <td>I WILL SURVIVE</td>\n",
       "    </tr>\n",
       "    <tr>\n",
       "      <th>96</th>\n",
       "      <td>GIVEON</td>\n",
       "      <td>LOST ME</td>\n",
       "    </tr>\n",
       "    <tr>\n",
       "      <th>97</th>\n",
       "      <td>TOM ODELL</td>\n",
       "      <td>ANOTHER LOVE</td>\n",
       "    </tr>\n",
       "    <tr>\n",
       "      <th>98</th>\n",
       "      <td>GEORGE EZRA</td>\n",
       "      <td>ANYONE FOR YOU</td>\n",
       "    </tr>\n",
       "    <tr>\n",
       "      <th>99</th>\n",
       "      <td>LEWIS CAPALDI</td>\n",
       "      <td>SOMEONE YOU LOVED</td>\n",
       "    </tr>\n",
       "  </tbody>\n",
       "</table>\n",
       "<p>100 rows × 2 columns</p>\n",
       "</div>"
      ],
      "text/plain": [
       "          artists              songs\n",
       "0       LF SYSTEM     AFRAID TO FEEL\n",
       "1     CENTRAL CEE               DOJA\n",
       "2    HARRY STYLES          AS IT WAS\n",
       "3     GEORGE EZRA  GREEN GREEN GRASS\n",
       "4       BURNA BOY          LAST LAST\n",
       "..            ...                ...\n",
       "95   BELTERS ONLY     I WILL SURVIVE\n",
       "96         GIVEON            LOST ME\n",
       "97      TOM ODELL       ANOTHER LOVE\n",
       "98    GEORGE EZRA     ANYONE FOR YOU\n",
       "99  LEWIS CAPALDI  SOMEONE YOU LOVED\n",
       "\n",
       "[100 rows x 2 columns]"
      ]
     },
     "execution_count": 18,
     "metadata": {},
     "output_type": "execute_result"
    }
   ],
   "source": [
    "# creating a third dataframe with artists and songs\n",
    "charts2 = pd.DataFrame({\"artists\":artist2,\n",
    "                        \"songs\":title2})\n",
    "\n",
    "charts2"
   ]
  },
  {
   "cell_type": "code",
   "execution_count": 19,
   "id": "f6a9b9f1",
   "metadata": {},
   "outputs": [
    {
     "data": {
      "text/html": [
       "<div>\n",
       "<style scoped>\n",
       "    .dataframe tbody tr th:only-of-type {\n",
       "        vertical-align: middle;\n",
       "    }\n",
       "\n",
       "    .dataframe tbody tr th {\n",
       "        vertical-align: top;\n",
       "    }\n",
       "\n",
       "    .dataframe thead th {\n",
       "        text-align: right;\n",
       "    }\n",
       "</style>\n",
       "<table border=\"1\" class=\"dataframe\">\n",
       "  <thead>\n",
       "    <tr style=\"text-align: right;\">\n",
       "      <th></th>\n",
       "      <th>songs</th>\n",
       "      <th>artists</th>\n",
       "    </tr>\n",
       "  </thead>\n",
       "  <tbody>\n",
       "    <tr>\n",
       "      <th>0</th>\n",
       "      <td>About Damn Time</td>\n",
       "      <td>Lizzo</td>\n",
       "    </tr>\n",
       "    <tr>\n",
       "      <th>1</th>\n",
       "      <td>As It Was</td>\n",
       "      <td>Harry Styles</td>\n",
       "    </tr>\n",
       "    <tr>\n",
       "      <th>2</th>\n",
       "      <td>Running Up That Hill (A Deal With God)</td>\n",
       "      <td>Kate Bush</td>\n",
       "    </tr>\n",
       "    <tr>\n",
       "      <th>3</th>\n",
       "      <td>First Class</td>\n",
       "      <td>Jack Harlow</td>\n",
       "    </tr>\n",
       "    <tr>\n",
       "      <th>4</th>\n",
       "      <td>Wait For U</td>\n",
       "      <td>Future Featuring Drake &amp; Tems</td>\n",
       "    </tr>\n",
       "    <tr>\n",
       "      <th>...</th>\n",
       "      <td>...</td>\n",
       "      <td>...</td>\n",
       "    </tr>\n",
       "    <tr>\n",
       "      <th>95</th>\n",
       "      <td>I WILL SURVIVE</td>\n",
       "      <td>BELTERS ONLY</td>\n",
       "    </tr>\n",
       "    <tr>\n",
       "      <th>96</th>\n",
       "      <td>LOST ME</td>\n",
       "      <td>GIVEON</td>\n",
       "    </tr>\n",
       "    <tr>\n",
       "      <th>97</th>\n",
       "      <td>ANOTHER LOVE</td>\n",
       "      <td>TOM ODELL</td>\n",
       "    </tr>\n",
       "    <tr>\n",
       "      <th>98</th>\n",
       "      <td>ANYONE FOR YOU</td>\n",
       "      <td>GEORGE EZRA</td>\n",
       "    </tr>\n",
       "    <tr>\n",
       "      <th>99</th>\n",
       "      <td>SOMEONE YOU LOVED</td>\n",
       "      <td>LEWIS CAPALDI</td>\n",
       "    </tr>\n",
       "  </tbody>\n",
       "</table>\n",
       "<p>300 rows × 2 columns</p>\n",
       "</div>"
      ],
      "text/plain": [
       "                                     songs                        artists\n",
       "0                          About Damn Time                          Lizzo\n",
       "1                                As It Was                   Harry Styles\n",
       "2   Running Up That Hill (A Deal With God)                      Kate Bush\n",
       "3                              First Class                    Jack Harlow\n",
       "4                               Wait For U  Future Featuring Drake & Tems\n",
       "..                                     ...                            ...\n",
       "95                          I WILL SURVIVE                   BELTERS ONLY\n",
       "96                                 LOST ME                         GIVEON\n",
       "97                            ANOTHER LOVE                      TOM ODELL\n",
       "98                          ANYONE FOR YOU                    GEORGE EZRA\n",
       "99                       SOMEONE YOU LOVED                  LEWIS CAPALDI\n",
       "\n",
       "[300 rows x 2 columns]"
      ]
     },
     "execution_count": 19,
     "metadata": {},
     "output_type": "execute_result"
    }
   ],
   "source": [
    "# concatenating the dataframes top100 and charts1\n",
    "charts = pd.concat([top100, charts1, charts2], axis=0)\n",
    "charts"
   ]
  },
  {
   "cell_type": "code",
   "execution_count": 20,
   "id": "f24a1bdf",
   "metadata": {},
   "outputs": [
    {
     "data": {
      "text/html": [
       "<div>\n",
       "<style scoped>\n",
       "    .dataframe tbody tr th:only-of-type {\n",
       "        vertical-align: middle;\n",
       "    }\n",
       "\n",
       "    .dataframe tbody tr th {\n",
       "        vertical-align: top;\n",
       "    }\n",
       "\n",
       "    .dataframe thead th {\n",
       "        text-align: right;\n",
       "    }\n",
       "</style>\n",
       "<table border=\"1\" class=\"dataframe\">\n",
       "  <thead>\n",
       "    <tr style=\"text-align: right;\">\n",
       "      <th></th>\n",
       "      <th>songs</th>\n",
       "      <th>artists</th>\n",
       "    </tr>\n",
       "  </thead>\n",
       "  <tbody>\n",
       "    <tr>\n",
       "      <th>0</th>\n",
       "      <td>About Damn Time</td>\n",
       "      <td>Lizzo</td>\n",
       "    </tr>\n",
       "    <tr>\n",
       "      <th>1</th>\n",
       "      <td>As It Was</td>\n",
       "      <td>Harry Styles</td>\n",
       "    </tr>\n",
       "    <tr>\n",
       "      <th>2</th>\n",
       "      <td>Running Up That Hill (A Deal With God)</td>\n",
       "      <td>Kate Bush</td>\n",
       "    </tr>\n",
       "    <tr>\n",
       "      <th>3</th>\n",
       "      <td>First Class</td>\n",
       "      <td>Jack Harlow</td>\n",
       "    </tr>\n",
       "    <tr>\n",
       "      <th>4</th>\n",
       "      <td>Wait For U</td>\n",
       "      <td>Future Featuring Drake &amp; Tems</td>\n",
       "    </tr>\n",
       "    <tr>\n",
       "      <th>...</th>\n",
       "      <td>...</td>\n",
       "      <td>...</td>\n",
       "    </tr>\n",
       "    <tr>\n",
       "      <th>95</th>\n",
       "      <td>I WILL SURVIVE</td>\n",
       "      <td>BELTERS ONLY</td>\n",
       "    </tr>\n",
       "    <tr>\n",
       "      <th>96</th>\n",
       "      <td>LOST ME</td>\n",
       "      <td>GIVEON</td>\n",
       "    </tr>\n",
       "    <tr>\n",
       "      <th>97</th>\n",
       "      <td>ANOTHER LOVE</td>\n",
       "      <td>TOM ODELL</td>\n",
       "    </tr>\n",
       "    <tr>\n",
       "      <th>98</th>\n",
       "      <td>ANYONE FOR YOU</td>\n",
       "      <td>GEORGE EZRA</td>\n",
       "    </tr>\n",
       "    <tr>\n",
       "      <th>99</th>\n",
       "      <td>SOMEONE YOU LOVED</td>\n",
       "      <td>LEWIS CAPALDI</td>\n",
       "    </tr>\n",
       "  </tbody>\n",
       "</table>\n",
       "<p>293 rows × 2 columns</p>\n",
       "</div>"
      ],
      "text/plain": [
       "                                     songs                        artists\n",
       "0                          About Damn Time                          Lizzo\n",
       "1                                As It Was                   Harry Styles\n",
       "2   Running Up That Hill (A Deal With God)                      Kate Bush\n",
       "3                              First Class                    Jack Harlow\n",
       "4                               Wait For U  Future Featuring Drake & Tems\n",
       "..                                     ...                            ...\n",
       "95                          I WILL SURVIVE                   BELTERS ONLY\n",
       "96                                 LOST ME                         GIVEON\n",
       "97                            ANOTHER LOVE                      TOM ODELL\n",
       "98                          ANYONE FOR YOU                    GEORGE EZRA\n",
       "99                       SOMEONE YOU LOVED                  LEWIS CAPALDI\n",
       "\n",
       "[293 rows x 2 columns]"
      ]
     },
     "execution_count": 20,
     "metadata": {},
     "output_type": "execute_result"
    }
   ],
   "source": [
    "# removing any duplicate rows\n",
    "charts = charts.drop_duplicates()\n",
    "charts"
   ]
  },
  {
   "cell_type": "code",
   "execution_count": 21,
   "id": "e9331518",
   "metadata": {},
   "outputs": [
    {
     "name": "stdout",
     "output_type": "stream",
     "text": [
      "enter a song name: Wait For U\n",
      "Your choice is: \n"
     ]
    },
    {
     "data": {
      "text/html": [
       "<div>\n",
       "<style scoped>\n",
       "    .dataframe tbody tr th:only-of-type {\n",
       "        vertical-align: middle;\n",
       "    }\n",
       "\n",
       "    .dataframe tbody tr th {\n",
       "        vertical-align: top;\n",
       "    }\n",
       "\n",
       "    .dataframe thead th {\n",
       "        text-align: right;\n",
       "    }\n",
       "</style>\n",
       "<table border=\"1\" class=\"dataframe\">\n",
       "  <thead>\n",
       "    <tr style=\"text-align: right;\">\n",
       "      <th></th>\n",
       "      <th>songs</th>\n",
       "      <th>artists</th>\n",
       "    </tr>\n",
       "  </thead>\n",
       "  <tbody>\n",
       "    <tr>\n",
       "      <th>4</th>\n",
       "      <td>Wait For U</td>\n",
       "      <td>Future Featuring Drake &amp; Tems</td>\n",
       "    </tr>\n",
       "  </tbody>\n",
       "</table>\n",
       "</div>"
      ],
      "text/plain": [
       "        songs                        artists\n",
       "4  Wait For U  Future Featuring Drake & Tems"
      ]
     },
     "metadata": {},
     "output_type": "display_data"
    },
    {
     "name": "stdout",
     "output_type": "stream",
     "text": [
      "and our recommendation is:\n"
     ]
    },
    {
     "data": {
      "text/html": [
       "<div>\n",
       "<style scoped>\n",
       "    .dataframe tbody tr th:only-of-type {\n",
       "        vertical-align: middle;\n",
       "    }\n",
       "\n",
       "    .dataframe tbody tr th {\n",
       "        vertical-align: top;\n",
       "    }\n",
       "\n",
       "    .dataframe thead th {\n",
       "        text-align: right;\n",
       "    }\n",
       "</style>\n",
       "<table border=\"1\" class=\"dataframe\">\n",
       "  <thead>\n",
       "    <tr style=\"text-align: right;\">\n",
       "      <th></th>\n",
       "      <th>songs</th>\n",
       "      <th>artists</th>\n",
       "    </tr>\n",
       "  </thead>\n",
       "  <tbody>\n",
       "    <tr>\n",
       "      <th>83</th>\n",
       "      <td>Love Me More</td>\n",
       "      <td>Sam Smith</td>\n",
       "    </tr>\n",
       "  </tbody>\n",
       "</table>\n",
       "</div>"
      ],
      "text/plain": [
       "           songs    artists\n",
       "83  Love Me More  Sam Smith"
      ]
     },
     "metadata": {},
     "output_type": "display_data"
    }
   ],
   "source": [
    "# creating a code for recommendation song according to the choice\n",
    "recommend_song = input(\"enter a song name: \")\n",
    "\n",
    "if recommend_song in list(charts['songs']):\n",
    "    print(\"Your choice is: \")\n",
    "    display(charts.loc[lambda charts: charts['songs'] == recommend_song])\n",
    "    print(\"and our recommendation is:\")\n",
    "    display(charts.sample())\n",
    "else:\n",
    "    print(\"no recommendation\")"
   ]
  }
 ],
 "metadata": {
  "kernelspec": {
   "display_name": "Python 3 (ipykernel)",
   "language": "python",
   "name": "python3"
  },
  "language_info": {
   "codemirror_mode": {
    "name": "ipython",
    "version": 3
   },
   "file_extension": ".py",
   "mimetype": "text/x-python",
   "name": "python",
   "nbconvert_exporter": "python",
   "pygments_lexer": "ipython3",
   "version": "3.9.7"
  }
 },
 "nbformat": 4,
 "nbformat_minor": 5
}
